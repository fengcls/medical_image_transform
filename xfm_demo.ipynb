{
  "nbformat": 4,
  "nbformat_minor": 0,
  "metadata": {
    "colab": {
      "name": "xfm_demo.ipynb",
      "version": "0.3.2",
      "provenance": [],
      "collapsed_sections": []
    },
    "kernelspec": {
      "name": "python3",
      "display_name": "Python 3"
    },
    "accelerator": "GPU"
  },
  "cells": [
    {
      "cell_type": "code",
      "metadata": {
        "id": "UM5pqg30xoXZ",
        "colab_type": "code",
        "colab": {}
      },
      "source": [
        "from google.colab import drive\n",
        "drive.mount('/content/drive')"
      ],
      "execution_count": 0,
      "outputs": []
    },
    {
      "cell_type": "code",
      "metadata": {
        "id": "HuLavQp-xjwo",
        "colab_type": "code",
        "colab": {}
      },
      "source": [
        "import os\n",
        "os.chdir('/content/drive/My Drive/Colab Notebooks/medical_image_transform')"
      ],
      "execution_count": 0,
      "outputs": []
    },
    {
      "cell_type": "markdown",
      "metadata": {
        "id": "ytUVeR4SQEpa",
        "colab_type": "text"
      },
      "source": [
        "using restructured brats data from brats_data_preparation.sh"
      ]
    },
    {
      "cell_type": "code",
      "metadata": {
        "id": "zooDtML4x3XT",
        "colab_type": "code",
        "outputId": "3f6062e9-7d0a-479a-fa93-7252b20fe9c9",
        "colab": {
          "base_uri": "https://localhost:8080/",
          "height": 1000
        }
      },
      "source": [
        "# %run train.py --name test --dirA '/content/drive/My Drive/PPP/pre'  --dirB '/content/drive/My Drive/PPP/post' --which_model_netG 'unet_32'\n",
        "# %run train.py --name test3 --dirA '/content/drive/My Drive/ADNI_multimodal/T1_BM'  --dirB '/content/drive/My Drive/ADNI_multimodal/FLAIR_BM' --which_model_netG 'unet_32' --using_gan\n",
        "%run train.py --name brats_t1_2_t1ce_unet_32 --dirA '/content/drive/My Drive/BraTS/MICCAI_BraTS_2019_Data_Training_by_modality/t1/'  --dirB '/content/drive/My Drive/BraTS/MICCAI_BraTS_2019_Data_Training_by_modality/t1ce/' --which_model_netG 'unet_32'"
      ],
      "execution_count": 0,
      "outputs": [
        {
          "output_type": "stream",
          "text": [
            "----------------- Options ---------------\n",
            "                batchSize: 1                             \n",
            "                    beta1: 0.5                           \n",
            "          checkpoints_dir: ./checkpoints                 \n",
            "                  colsize: 128                           \n",
            "           continue_train: False                         \n",
            "                conv3d_kw: 1                             \n",
            "              conv3d_padw: 0                             \n",
            "            conv3d_stride: 0                             \n",
            "             dataset_mode: aligned                       \n",
            "                     dirA: /content/drive/My Drive/BraTS/MICCAI_BraTS_2019_Data_Training_by_modality/t1/\t[default: pre]\n",
            "                     dirB: /content/drive/My Drive/BraTS/MICCAI_BraTS_2019_Data_Training_by_modality/t1ce/\t[default: post]\n",
            "              epoch_count: 1                             \n",
            "               epoch_step: 2000                          \n",
            "                 fineSize: 256                           \n",
            "                  gpu_ids: [0]                           \t[default: 0]\n",
            "                init_type: normal                        \n",
            "                 input_nc: 1                             \t[default: 3]\n",
            "                  isTrain: True                          \t[default: None]\n",
            "          lambda_D_cmp_gp: 0.15                          \n",
            "                lambda_L1: 100.0                         \n",
            "                 loadSize: 256                           \n",
            "                       lr: 0.0002                        \n",
            "           lr_decay_iters: 50                            \n",
            "                lr_policy: lambda                        \n",
            "         max_dataset_size: inf                           \n",
            "                 maxepoch: 1280000                       \n",
            "                    model: pix2pix                       \n",
            "                 nThreads: 4                             \n",
            "               n_layers_D: 3                             \n",
            "                     name: brats_t1_2_t1ce_unet_32_ppp_pix2pix\t[default: None]\n",
            "                      ndf: 64                            \n",
            "                      ngf: 64                            \n",
            "                    niter: 100                           \n",
            "              niter_decay: 100                           \n",
            "               no_dropout: False                         \n",
            "                  no_flip: False                         \n",
            "                 no_lsgan: True                          \n",
            "                     norm: batch                         \n",
            "              num_workers: 1                             \n",
            "                output_nc: 1                             \t[default: 3]\n",
            "                    phase: train                         \n",
            "                pool_size: 0                             \n",
            "               print_freq: 1                             \n",
            "           resize_or_crop: resize_and_crop               \n",
            "                  rowsize: 128                           \n",
            "          save_epoch_freq: 1                             \n",
            "                     seed: 1                             \n",
            "           serial_batches: False                         \n",
            "                    study: ppp                           \n",
            "                   suffix:                               \n",
            "                test_fold: 0                             \n",
            "               test_ratio: 0.1                           \n",
            "                timesteps: 5                             \n",
            "              train_folds: []                            \n",
            "                  unit_ch: 64                            \n",
            "                using_gan: False                         \n",
            "               using_wgan: False                         \n",
            "                val_ratio: 0.1                           \n",
            "                  verbose: False                         \n",
            "          which_direction: AtoB                          \n",
            "              which_epoch: latest                        \n",
            "         which_model_netD: basic                         \n",
            "         which_model_netG: unet_32                       \t[default: unet_256]\n",
            "----------------- End -------------------\n",
            "./checkpoints/brats_t1_2_t1ce_unet_32_ppp_pix2pix\n",
            "initialize network with normal\n",
            "use_sigmoid: True\n",
            "stride: [2, 2, 2]\n",
            "initialize network with normal\n",
            "model [Pix2PixModel] was created\n",
            "---------- Networks initialized -------------\n",
            "[Network G] Total number of parameters : 64.631 M\n",
            "[Network D] Total number of parameters : 2.765 M\n",
            "-----------------------------------------------\n",
            "train, val, test: [267, 34, 34]\n",
            "torch.Size([1, 1, 160, 256, 256])\n"
          ],
          "name": "stdout"
        },
        {
          "output_type": "stream",
          "text": [
            "267it [51:11, 11.24s/it]\n"
          ],
          "name": "stderr"
        },
        {
          "output_type": "stream",
          "text": [
            "(epoch: 1, iters: 267, time: 3072.033) G_L1: 1.833 \n",
            "saving the model at the end of epoch 1, iters 267\n",
            "End of epoch 1 / 200 \t Time Taken: 3073 sec\n",
            "learning rate = 0.0002000\n"
          ],
          "name": "stdout"
        },
        {
          "output_type": "stream",
          "text": [
            "267it [50:36, 11.41s/it]\n"
          ],
          "name": "stderr"
        },
        {
          "output_type": "stream",
          "text": [
            "(epoch: 2, iters: 267, time: 3036.695) G_L1: 5.366 \n",
            "saving the model at the end of epoch 2, iters 534\n",
            "End of epoch 2 / 200 \t Time Taken: 3039 sec\n",
            "learning rate = 0.0002000\n"
          ],
          "name": "stdout"
        },
        {
          "output_type": "stream",
          "text": [
            "267it [50:41, 11.34s/it]\n"
          ],
          "name": "stderr"
        },
        {
          "output_type": "stream",
          "text": [
            "(epoch: 3, iters: 267, time: 3041.435) G_L1: 1.164 \n",
            "saving the model at the end of epoch 3, iters 801\n",
            "End of epoch 3 / 200 \t Time Taken: 3043 sec\n",
            "learning rate = 0.0002000\n"
          ],
          "name": "stdout"
        },
        {
          "output_type": "stream",
          "text": [
            "267it [50:56, 11.45s/it]\n"
          ],
          "name": "stderr"
        },
        {
          "output_type": "stream",
          "text": [
            "(epoch: 4, iters: 267, time: 3057.135) G_L1: 1.429 \n",
            "saving the model at the end of epoch 4, iters 1068\n",
            "End of epoch 4 / 200 \t Time Taken: 3058 sec\n",
            "learning rate = 0.0002000\n"
          ],
          "name": "stdout"
        },
        {
          "output_type": "stream",
          "text": [
            "267it [50:53, 11.41s/it]\n"
          ],
          "name": "stderr"
        },
        {
          "output_type": "stream",
          "text": [
            "(epoch: 5, iters: 267, time: 3053.985) G_L1: 1.642 \n",
            "saving the model at the end of epoch 5, iters 1335\n",
            "End of epoch 5 / 200 \t Time Taken: 3057 sec\n",
            "learning rate = 0.0002000\n"
          ],
          "name": "stdout"
        },
        {
          "output_type": "stream",
          "text": [
            "267it [51:00, 11.34s/it]\n"
          ],
          "name": "stderr"
        },
        {
          "output_type": "stream",
          "text": [
            "(epoch: 6, iters: 267, time: 3060.875) G_L1: 1.201 \n",
            "saving the model at the end of epoch 6, iters 1602\n",
            "End of epoch 6 / 200 \t Time Taken: 3062 sec\n",
            "learning rate = 0.0002000\n"
          ],
          "name": "stdout"
        },
        {
          "output_type": "stream",
          "text": [
            "267it [50:56, 11.38s/it]\n"
          ],
          "name": "stderr"
        },
        {
          "output_type": "stream",
          "text": [
            "(epoch: 7, iters: 267, time: 3056.538) G_L1: 1.227 \n",
            "saving the model at the end of epoch 7, iters 1869\n",
            "End of epoch 7 / 200 \t Time Taken: 3058 sec\n",
            "learning rate = 0.0002000\n"
          ],
          "name": "stdout"
        },
        {
          "output_type": "stream",
          "text": [
            "267it [50:28, 11.19s/it]\n"
          ],
          "name": "stderr"
        },
        {
          "output_type": "stream",
          "text": [
            "(epoch: 8, iters: 267, time: 3029.055) G_L1: 2.988 \n",
            "saving the model at the end of epoch 8, iters 2136\n",
            "End of epoch 8 / 200 \t Time Taken: 3031 sec\n",
            "learning rate = 0.0002000\n"
          ],
          "name": "stdout"
        },
        {
          "output_type": "stream",
          "text": [
            "267it [49:52, 11.19s/it]\n"
          ],
          "name": "stderr"
        },
        {
          "output_type": "stream",
          "text": [
            "(epoch: 9, iters: 267, time: 2992.534) G_L1: 2.290 \n",
            "saving the model at the end of epoch 9, iters 2403\n",
            "End of epoch 9 / 200 \t Time Taken: 2994 sec\n",
            "learning rate = 0.0002000\n"
          ],
          "name": "stdout"
        },
        {
          "output_type": "stream",
          "text": [
            "267it [50:50, 11.50s/it]\n"
          ],
          "name": "stderr"
        },
        {
          "output_type": "stream",
          "text": [
            "(epoch: 10, iters: 267, time: 3050.470) G_L1: 1.192 \n",
            "saving the model at the end of epoch 10, iters 2670\n",
            "End of epoch 10 / 200 \t Time Taken: 3052 sec\n",
            "learning rate = 0.0002000\n"
          ],
          "name": "stdout"
        },
        {
          "output_type": "stream",
          "text": [
            "267it [50:46, 11.64s/it]\n"
          ],
          "name": "stderr"
        },
        {
          "output_type": "stream",
          "text": [
            "(epoch: 11, iters: 267, time: 3046.277) G_L1: 3.947 \n",
            "saving the model at the end of epoch 11, iters 2937\n",
            "End of epoch 11 / 200 \t Time Taken: 3048 sec\n",
            "learning rate = 0.0002000\n"
          ],
          "name": "stdout"
        },
        {
          "output_type": "stream",
          "text": [
            "267it [51:34, 11.46s/it]\n"
          ],
          "name": "stderr"
        },
        {
          "output_type": "stream",
          "text": [
            "(epoch: 12, iters: 267, time: 3094.354) G_L1: 2.957 \n",
            "saving the model at the end of epoch 12, iters 3204\n",
            "End of epoch 12 / 200 \t Time Taken: 3096 sec\n",
            "learning rate = 0.0002000\n"
          ],
          "name": "stdout"
        },
        {
          "output_type": "stream",
          "text": [
            "267it [51:20, 11.34s/it]\n"
          ],
          "name": "stderr"
        },
        {
          "output_type": "stream",
          "text": [
            "(epoch: 13, iters: 267, time: 3080.965) G_L1: 0.857 \n",
            "saving the model at the end of epoch 13, iters 3471\n",
            "End of epoch 13 / 200 \t Time Taken: 3082 sec\n",
            "learning rate = 0.0002000\n"
          ],
          "name": "stdout"
        },
        {
          "output_type": "stream",
          "text": [
            "267it [51:26, 11.55s/it]\n"
          ],
          "name": "stderr"
        },
        {
          "output_type": "stream",
          "text": [
            "(epoch: 14, iters: 267, time: 3086.732) G_L1: 1.342 \n",
            "saving the model at the end of epoch 14, iters 3738\n",
            "End of epoch 14 / 200 \t Time Taken: 3089 sec\n",
            "learning rate = 0.0002000\n"
          ],
          "name": "stdout"
        },
        {
          "output_type": "stream",
          "text": [
            "45it [08:41, 11.78s/it]"
          ],
          "name": "stderr"
        }
      ]
    },
    {
      "cell_type": "code",
      "metadata": {
        "id": "TKPatX3mqasN",
        "colab_type": "code",
        "colab": {
          "base_uri": "https://localhost:8080/",
          "height": 1000
        },
        "outputId": "66b3d37f-c1bb-47c2-ee13-6ae857424727"
      },
      "source": [
        "%run test.py --name brats_t1_2_t1ce_unet_32 --weights_name weights_12.pth --dirA '/content/drive/My Drive/BraTS/MICCAI_BraTS_2019_Data_Validation_by_modality/t1'  --dirB '/content/drive/My Drive/BraTS/MICCAI_BraTS_2019_Data_Validation_by_modality/t1ce/' --which_model_netG 'unet_32'"
      ],
      "execution_count": 3,
      "outputs": [
        {
          "output_type": "stream",
          "text": [
            "----------------- Options ---------------\n",
            "             aspect_ratio: 1.0                           \n",
            "                batchSize: 1                             \n",
            "          checkpoints_dir: ./checkpoints                 \n",
            "                conv3d_kw: 1                             \n",
            "              conv3d_padw: 0                             \n",
            "            conv3d_stride: 0                             \n",
            "             dataset_mode: aligned                       \n",
            "                     dirA: /content/drive/My Drive/BraTS/MICCAI_BraTS_2019_Data_Validation_by_modality/t1\t[default: pre]\n",
            "                     dirB: /content/drive/My Drive/BraTS/MICCAI_BraTS_2019_Data_Validation_by_modality/t1ce/\t[default: post]\n",
            "                  feature: image                         \n",
            "                 fineSize: 256                           \n",
            "                      gpu: 1                             \n",
            "                  gpu_ids: [0]                           \t[default: 0]\n",
            "                 img_size: 128                           \n",
            "                init_type: normal                        \n",
            "                 input_nc: 1                             \t[default: 3]\n",
            "                  isTrain: False                         \t[default: None]\n",
            "          lambda_D_cmp_gp: 0.15                          \n",
            "                lambda_L1: 100.0                         \n",
            "                 loadSize: 256                           \n",
            "         max_dataset_size: inf                           \n",
            "                    model: pix2pix                       \n",
            "           modelsubfolder:                               \n",
            "                 nThreads: 1                             \t[default: 4]\n",
            "               n_layers_D: 3                             \n",
            "                     name: brats_t1_2_t1ce_unet_32       \t[default: None]\n",
            "                      ndf: 64                            \n",
            "                      ngf: 64                            \n",
            "               no_dropout: False                         \n",
            "                  no_flip: True                          \t[default: False]\n",
            "                 no_lsgan: True                          \n",
            "                     norm: batch                         \n",
            "                    ntest: inf                           \n",
            "              num_workers: 1                             \n",
            "                output_nc: 1                             \t[default: 3]\n",
            "                    phase: test                          \n",
            "                pool_size: 0                             \n",
            "           resize_or_crop: resize_and_crop               \n",
            "              results_dir: ./results/                    \n",
            "                     seed: 1                             \n",
            "           serial_batches: True                          \t[default: False]\n",
            "                    study: ppp                           \n",
            "                   suffix:                               \n",
            "                test_fold: 0                             \n",
            "               test_ratio: 0.1                           \n",
            "               testingset: UCSDped2                      \n",
            "              train_folds: []                            \n",
            "              trainingset: ped1_ped2                     \n",
            "                using_gan: False                         \n",
            "                val_ratio: 0.1                           \n",
            "                  verbose: False                         \n",
            "             weights_name: weights_12.pth                \t[default: weights.pth]\n",
            "          which_direction: AtoB                          \n",
            "              which_epoch: latest                        \n",
            "         which_model_netD: basic                         \n",
            "         which_model_netG: unet_32                       \t[default: unet_256]\n",
            "----------------- End -------------------\n",
            "initialize network with normal\n",
            "model [Pix2PixModel] was created\n",
            "loading the model from ./checkpoints/brats_t1_2_t1ce_unet_32_ppp_pix2pix/latest_net_G.pth\n",
            "---------- Networks initialized -------------\n",
            "[Network G] Total number of parameters : 64.631 M\n",
            "-----------------------------------------------\n",
            "125\n"
          ],
          "name": "stdout"
        },
        {
          "output_type": "stream",
          "text": [
            "\r0it [00:00, ?it/s]/content/drive/My Drive/Colab Notebooks/medical_image_transform/test.py:83: RuntimeWarning: divide by zero encountered in true_divide\n",
            "  nib_img_new = nib.Nifti1Image(np.squeeze(err)/np.squeeze(imgB), nib_img.affine)\n",
            "1it [00:18, 18.48s/it]"
          ],
          "name": "stderr"
        },
        {
          "output_type": "stream",
          "text": [
            "mse: 0.007672108\n"
          ],
          "name": "stdout"
        },
        {
          "output_type": "stream",
          "text": [
            "\r2it [00:21, 13.98s/it]"
          ],
          "name": "stderr"
        },
        {
          "output_type": "stream",
          "text": [
            "mse: 0.008530814\n"
          ],
          "name": "stdout"
        },
        {
          "output_type": "stream",
          "text": [
            "\r3it [00:25, 10.84s/it]"
          ],
          "name": "stderr"
        },
        {
          "output_type": "stream",
          "text": [
            "mse: 0.007936055\n"
          ],
          "name": "stdout"
        },
        {
          "output_type": "stream",
          "text": [
            "\r4it [00:29,  8.69s/it]"
          ],
          "name": "stderr"
        },
        {
          "output_type": "stream",
          "text": [
            "mse: 0.016298342\n"
          ],
          "name": "stdout"
        },
        {
          "output_type": "stream",
          "text": [
            "\r5it [00:32,  7.12s/it]"
          ],
          "name": "stderr"
        },
        {
          "output_type": "stream",
          "text": [
            "mse: 0.009253222\n"
          ],
          "name": "stdout"
        },
        {
          "output_type": "stream",
          "text": [
            "\r6it [00:36,  6.03s/it]"
          ],
          "name": "stderr"
        },
        {
          "output_type": "stream",
          "text": [
            "mse: 0.008618252\n"
          ],
          "name": "stdout"
        },
        {
          "output_type": "stream",
          "text": [
            "\r7it [00:39,  5.22s/it]"
          ],
          "name": "stderr"
        },
        {
          "output_type": "stream",
          "text": [
            "mse: 0.014647578\n"
          ],
          "name": "stdout"
        },
        {
          "output_type": "stream",
          "text": [
            "\r8it [00:42,  4.64s/it]"
          ],
          "name": "stderr"
        },
        {
          "output_type": "stream",
          "text": [
            "mse: 0.0075495513\n"
          ],
          "name": "stdout"
        },
        {
          "output_type": "stream",
          "text": [
            "\r9it [00:46,  4.26s/it]"
          ],
          "name": "stderr"
        },
        {
          "output_type": "stream",
          "text": [
            "mse: 0.011254585\n"
          ],
          "name": "stdout"
        },
        {
          "output_type": "stream",
          "text": [
            "\r10it [00:49,  4.05s/it]"
          ],
          "name": "stderr"
        },
        {
          "output_type": "stream",
          "text": [
            "mse: 0.011735516\n"
          ],
          "name": "stdout"
        },
        {
          "output_type": "stream",
          "text": [
            "\r11it [00:53,  3.88s/it]"
          ],
          "name": "stderr"
        },
        {
          "output_type": "stream",
          "text": [
            "mse: 0.012025263\n"
          ],
          "name": "stdout"
        },
        {
          "output_type": "stream",
          "text": [
            "\r12it [00:56,  3.80s/it]"
          ],
          "name": "stderr"
        },
        {
          "output_type": "stream",
          "text": [
            "mse: 0.012699542\n"
          ],
          "name": "stdout"
        },
        {
          "output_type": "stream",
          "text": [
            "\r13it [01:00,  3.73s/it]"
          ],
          "name": "stderr"
        },
        {
          "output_type": "stream",
          "text": [
            "mse: 0.01372699\n"
          ],
          "name": "stdout"
        },
        {
          "output_type": "stream",
          "text": [
            "\r14it [01:03,  3.65s/it]"
          ],
          "name": "stderr"
        },
        {
          "output_type": "stream",
          "text": [
            "mse: 0.009504977\n"
          ],
          "name": "stdout"
        },
        {
          "output_type": "stream",
          "text": [
            "\r15it [01:07,  3.59s/it]"
          ],
          "name": "stderr"
        },
        {
          "output_type": "stream",
          "text": [
            "mse: 0.010381717\n"
          ],
          "name": "stdout"
        },
        {
          "output_type": "stream",
          "text": [
            "\r16it [01:10,  3.63s/it]"
          ],
          "name": "stderr"
        },
        {
          "output_type": "stream",
          "text": [
            "mse: 0.011870781\n"
          ],
          "name": "stdout"
        },
        {
          "output_type": "stream",
          "text": [
            "\r17it [01:14,  3.56s/it]"
          ],
          "name": "stderr"
        },
        {
          "output_type": "stream",
          "text": [
            "mse: 0.010075698\n"
          ],
          "name": "stdout"
        },
        {
          "output_type": "stream",
          "text": [
            "\r18it [01:17,  3.55s/it]"
          ],
          "name": "stderr"
        },
        {
          "output_type": "stream",
          "text": [
            "mse: 0.011283075\n"
          ],
          "name": "stdout"
        },
        {
          "output_type": "stream",
          "text": [
            "\r19it [01:21,  3.48s/it]"
          ],
          "name": "stderr"
        },
        {
          "output_type": "stream",
          "text": [
            "mse: 0.01222687\n"
          ],
          "name": "stdout"
        },
        {
          "output_type": "stream",
          "text": [
            "\r20it [01:24,  3.51s/it]"
          ],
          "name": "stderr"
        },
        {
          "output_type": "stream",
          "text": [
            "mse: 0.023065064\n"
          ],
          "name": "stdout"
        },
        {
          "output_type": "stream",
          "text": [
            "\r21it [01:28,  3.50s/it]"
          ],
          "name": "stderr"
        },
        {
          "output_type": "stream",
          "text": [
            "mse: 0.010792292\n"
          ],
          "name": "stdout"
        },
        {
          "output_type": "stream",
          "text": [
            "\r22it [01:31,  3.50s/it]"
          ],
          "name": "stderr"
        },
        {
          "output_type": "stream",
          "text": [
            "mse: 0.014029357\n"
          ],
          "name": "stdout"
        },
        {
          "output_type": "stream",
          "text": [
            "\r23it [01:35,  3.48s/it]"
          ],
          "name": "stderr"
        },
        {
          "output_type": "stream",
          "text": [
            "mse: 0.0071581015\n"
          ],
          "name": "stdout"
        },
        {
          "output_type": "stream",
          "text": [
            "\r24it [01:38,  3.45s/it]"
          ],
          "name": "stderr"
        },
        {
          "output_type": "stream",
          "text": [
            "mse: 0.013172468\n"
          ],
          "name": "stdout"
        },
        {
          "output_type": "stream",
          "text": [
            "\r25it [01:42,  3.50s/it]"
          ],
          "name": "stderr"
        },
        {
          "output_type": "stream",
          "text": [
            "mse: 0.012939679\n"
          ],
          "name": "stdout"
        },
        {
          "output_type": "stream",
          "text": [
            "\r26it [01:45,  3.40s/it]"
          ],
          "name": "stderr"
        },
        {
          "output_type": "stream",
          "text": [
            "mse: 0.007227991\n"
          ],
          "name": "stdout"
        },
        {
          "output_type": "stream",
          "text": [
            "\r27it [01:48,  3.45s/it]"
          ],
          "name": "stderr"
        },
        {
          "output_type": "stream",
          "text": [
            "mse: 0.017433468\n"
          ],
          "name": "stdout"
        },
        {
          "output_type": "stream",
          "text": [
            "\r28it [01:52,  3.51s/it]"
          ],
          "name": "stderr"
        },
        {
          "output_type": "stream",
          "text": [
            "mse: 0.007873138\n"
          ],
          "name": "stdout"
        },
        {
          "output_type": "stream",
          "text": [
            "\r29it [01:56,  3.51s/it]"
          ],
          "name": "stderr"
        },
        {
          "output_type": "stream",
          "text": [
            "mse: 0.015223254\n"
          ],
          "name": "stdout"
        },
        {
          "output_type": "stream",
          "text": [
            "\r30it [01:59,  3.55s/it]"
          ],
          "name": "stderr"
        },
        {
          "output_type": "stream",
          "text": [
            "mse: 0.0080416445\n"
          ],
          "name": "stdout"
        },
        {
          "output_type": "stream",
          "text": [
            "\r31it [02:03,  3.51s/it]"
          ],
          "name": "stderr"
        },
        {
          "output_type": "stream",
          "text": [
            "mse: 0.022779476\n"
          ],
          "name": "stdout"
        },
        {
          "output_type": "stream",
          "text": [
            "\r32it [02:06,  3.48s/it]"
          ],
          "name": "stderr"
        },
        {
          "output_type": "stream",
          "text": [
            "mse: 0.009961277\n"
          ],
          "name": "stdout"
        },
        {
          "output_type": "stream",
          "text": [
            "\r33it [02:09,  3.43s/it]"
          ],
          "name": "stderr"
        },
        {
          "output_type": "stream",
          "text": [
            "mse: 0.010557794\n"
          ],
          "name": "stdout"
        },
        {
          "output_type": "stream",
          "text": [
            "\r34it [02:13,  3.46s/it]"
          ],
          "name": "stderr"
        },
        {
          "output_type": "stream",
          "text": [
            "mse: 0.01776128\n"
          ],
          "name": "stdout"
        },
        {
          "output_type": "stream",
          "text": [
            "\r35it [02:17,  3.57s/it]"
          ],
          "name": "stderr"
        },
        {
          "output_type": "stream",
          "text": [
            "mse: 0.012127294\n"
          ],
          "name": "stdout"
        },
        {
          "output_type": "stream",
          "text": [
            "\r36it [02:20,  3.57s/it]"
          ],
          "name": "stderr"
        },
        {
          "output_type": "stream",
          "text": [
            "mse: 0.0077979797\n"
          ],
          "name": "stdout"
        },
        {
          "output_type": "stream",
          "text": [
            "\r37it [02:24,  3.50s/it]"
          ],
          "name": "stderr"
        },
        {
          "output_type": "stream",
          "text": [
            "mse: 0.007962657\n"
          ],
          "name": "stdout"
        },
        {
          "output_type": "stream",
          "text": [
            "\r38it [02:27,  3.46s/it]"
          ],
          "name": "stderr"
        },
        {
          "output_type": "stream",
          "text": [
            "mse: 0.012686273\n"
          ],
          "name": "stdout"
        },
        {
          "output_type": "stream",
          "text": [
            "\r39it [02:30,  3.46s/it]"
          ],
          "name": "stderr"
        },
        {
          "output_type": "stream",
          "text": [
            "mse: 0.010780798\n"
          ],
          "name": "stdout"
        },
        {
          "output_type": "stream",
          "text": [
            "\r40it [02:34,  3.46s/it]"
          ],
          "name": "stderr"
        },
        {
          "output_type": "stream",
          "text": [
            "mse: 0.008767069\n"
          ],
          "name": "stdout"
        },
        {
          "output_type": "stream",
          "text": [
            "\r41it [02:38,  3.77s/it]"
          ],
          "name": "stderr"
        },
        {
          "output_type": "stream",
          "text": [
            "mse: 0.021378571\n"
          ],
          "name": "stdout"
        },
        {
          "output_type": "stream",
          "text": [
            "\r42it [02:42,  3.75s/it]"
          ],
          "name": "stderr"
        },
        {
          "output_type": "stream",
          "text": [
            "mse: 0.012388336\n"
          ],
          "name": "stdout"
        },
        {
          "output_type": "stream",
          "text": [
            "\r43it [02:45,  3.59s/it]"
          ],
          "name": "stderr"
        },
        {
          "output_type": "stream",
          "text": [
            "mse: 0.015972545\n"
          ],
          "name": "stdout"
        },
        {
          "output_type": "stream",
          "text": [
            "\r44it [02:49,  3.55s/it]"
          ],
          "name": "stderr"
        },
        {
          "output_type": "stream",
          "text": [
            "mse: 0.015459038\n"
          ],
          "name": "stdout"
        },
        {
          "output_type": "stream",
          "text": [
            "\r45it [02:52,  3.53s/it]"
          ],
          "name": "stderr"
        },
        {
          "output_type": "stream",
          "text": [
            "mse: 0.012370889\n"
          ],
          "name": "stdout"
        },
        {
          "output_type": "stream",
          "text": [
            "\r46it [02:56,  3.54s/it]"
          ],
          "name": "stderr"
        },
        {
          "output_type": "stream",
          "text": [
            "mse: 0.013099578\n"
          ],
          "name": "stdout"
        },
        {
          "output_type": "stream",
          "text": [
            "\r47it [02:59,  3.48s/it]"
          ],
          "name": "stderr"
        },
        {
          "output_type": "stream",
          "text": [
            "mse: 0.004450498\n"
          ],
          "name": "stdout"
        },
        {
          "output_type": "stream",
          "text": [
            "\r48it [03:03,  3.48s/it]"
          ],
          "name": "stderr"
        },
        {
          "output_type": "stream",
          "text": [
            "mse: 0.003387086\n"
          ],
          "name": "stdout"
        },
        {
          "output_type": "stream",
          "text": [
            "\r49it [03:06,  3.54s/it]"
          ],
          "name": "stderr"
        },
        {
          "output_type": "stream",
          "text": [
            "mse: 0.0034223385\n"
          ],
          "name": "stdout"
        },
        {
          "output_type": "stream",
          "text": [
            "\r50it [03:10,  3.52s/it]"
          ],
          "name": "stderr"
        },
        {
          "output_type": "stream",
          "text": [
            "mse: 0.0043395655\n"
          ],
          "name": "stdout"
        },
        {
          "output_type": "stream",
          "text": [
            "\r51it [03:13,  3.49s/it]"
          ],
          "name": "stderr"
        },
        {
          "output_type": "stream",
          "text": [
            "mse: 0.0014116542\n"
          ],
          "name": "stdout"
        },
        {
          "output_type": "stream",
          "text": [
            "\r52it [03:17,  3.56s/it]"
          ],
          "name": "stderr"
        },
        {
          "output_type": "stream",
          "text": [
            "mse: 0.0027788838\n"
          ],
          "name": "stdout"
        },
        {
          "output_type": "stream",
          "text": [
            "\r53it [03:20,  3.54s/it]"
          ],
          "name": "stderr"
        },
        {
          "output_type": "stream",
          "text": [
            "mse: 0.004750861\n"
          ],
          "name": "stdout"
        },
        {
          "output_type": "stream",
          "text": [
            "\r54it [03:24,  3.49s/it]"
          ],
          "name": "stderr"
        },
        {
          "output_type": "stream",
          "text": [
            "mse: 0.0019951784\n"
          ],
          "name": "stdout"
        },
        {
          "output_type": "stream",
          "text": [
            "\r55it [03:27,  3.47s/it]"
          ],
          "name": "stderr"
        },
        {
          "output_type": "stream",
          "text": [
            "mse: 0.0044204826\n"
          ],
          "name": "stdout"
        },
        {
          "output_type": "stream",
          "text": [
            "\r56it [03:31,  3.43s/it]"
          ],
          "name": "stderr"
        },
        {
          "output_type": "stream",
          "text": [
            "mse: 0.0040895054\n"
          ],
          "name": "stdout"
        },
        {
          "output_type": "stream",
          "text": [
            "\r57it [03:34,  3.43s/it]"
          ],
          "name": "stderr"
        },
        {
          "output_type": "stream",
          "text": [
            "mse: 0.0049278894\n"
          ],
          "name": "stdout"
        },
        {
          "output_type": "stream",
          "text": [
            "\r58it [03:38,  3.47s/it]"
          ],
          "name": "stderr"
        },
        {
          "output_type": "stream",
          "text": [
            "mse: 0.0023819392\n"
          ],
          "name": "stdout"
        },
        {
          "output_type": "stream",
          "text": [
            "\r59it [03:41,  3.54s/it]"
          ],
          "name": "stderr"
        },
        {
          "output_type": "stream",
          "text": [
            "mse: 0.003688618\n"
          ],
          "name": "stdout"
        },
        {
          "output_type": "stream",
          "text": [
            "\r60it [03:45,  3.48s/it]"
          ],
          "name": "stderr"
        },
        {
          "output_type": "stream",
          "text": [
            "mse: 0.0014448538\n"
          ],
          "name": "stdout"
        },
        {
          "output_type": "stream",
          "text": [
            "\r61it [03:48,  3.52s/it]"
          ],
          "name": "stderr"
        },
        {
          "output_type": "stream",
          "text": [
            "mse: 0.012549234\n"
          ],
          "name": "stdout"
        },
        {
          "output_type": "stream",
          "text": [
            "\r62it [03:52,  3.49s/it]"
          ],
          "name": "stderr"
        },
        {
          "output_type": "stream",
          "text": [
            "mse: 0.0026337937\n"
          ],
          "name": "stdout"
        },
        {
          "output_type": "stream",
          "text": [
            "\r63it [03:55,  3.49s/it]"
          ],
          "name": "stderr"
        },
        {
          "output_type": "stream",
          "text": [
            "mse: 0.0020591922\n"
          ],
          "name": "stdout"
        },
        {
          "output_type": "stream",
          "text": [
            "\r64it [03:59,  3.48s/it]"
          ],
          "name": "stderr"
        },
        {
          "output_type": "stream",
          "text": [
            "mse: 0.003042643\n"
          ],
          "name": "stdout"
        },
        {
          "output_type": "stream",
          "text": [
            "\r65it [04:02,  3.51s/it]"
          ],
          "name": "stderr"
        },
        {
          "output_type": "stream",
          "text": [
            "mse: 0.0019268503\n"
          ],
          "name": "stdout"
        },
        {
          "output_type": "stream",
          "text": [
            "\r66it [04:06,  3.49s/it]"
          ],
          "name": "stderr"
        },
        {
          "output_type": "stream",
          "text": [
            "mse: 0.005820604\n"
          ],
          "name": "stdout"
        },
        {
          "output_type": "stream",
          "text": [
            "\r67it [04:09,  3.52s/it]"
          ],
          "name": "stderr"
        },
        {
          "output_type": "stream",
          "text": [
            "mse: 0.006127215\n"
          ],
          "name": "stdout"
        },
        {
          "output_type": "stream",
          "text": [
            "\r68it [04:13,  3.59s/it]"
          ],
          "name": "stderr"
        },
        {
          "output_type": "stream",
          "text": [
            "mse: 0.0044546276\n"
          ],
          "name": "stdout"
        },
        {
          "output_type": "stream",
          "text": [
            "\r69it [04:17,  3.64s/it]"
          ],
          "name": "stderr"
        },
        {
          "output_type": "stream",
          "text": [
            "mse: 0.010573226\n"
          ],
          "name": "stdout"
        },
        {
          "output_type": "stream",
          "text": [
            "\r70it [04:20,  3.64s/it]"
          ],
          "name": "stderr"
        },
        {
          "output_type": "stream",
          "text": [
            "mse: 0.005518403\n"
          ],
          "name": "stdout"
        },
        {
          "output_type": "stream",
          "text": [
            "\r71it [04:24,  3.65s/it]"
          ],
          "name": "stderr"
        },
        {
          "output_type": "stream",
          "text": [
            "mse: 0.0020552494\n"
          ],
          "name": "stdout"
        },
        {
          "output_type": "stream",
          "text": [
            "\r72it [04:30,  4.45s/it]"
          ],
          "name": "stderr"
        },
        {
          "output_type": "stream",
          "text": [
            "mse: 0.003089718\n"
          ],
          "name": "stdout"
        },
        {
          "output_type": "stream",
          "text": [
            "\r73it [04:34,  4.16s/it]"
          ],
          "name": "stderr"
        },
        {
          "output_type": "stream",
          "text": [
            "mse: 0.0043404046\n"
          ],
          "name": "stdout"
        },
        {
          "output_type": "stream",
          "text": [
            "\r74it [04:37,  4.00s/it]"
          ],
          "name": "stderr"
        },
        {
          "output_type": "stream",
          "text": [
            "mse: 0.0048798597\n"
          ],
          "name": "stdout"
        },
        {
          "output_type": "stream",
          "text": [
            "\r75it [04:41,  3.80s/it]"
          ],
          "name": "stderr"
        },
        {
          "output_type": "stream",
          "text": [
            "mse: 0.0013775963\n"
          ],
          "name": "stdout"
        },
        {
          "output_type": "stream",
          "text": [
            "\r76it [04:44,  3.70s/it]"
          ],
          "name": "stderr"
        },
        {
          "output_type": "stream",
          "text": [
            "mse: 0.0018601858\n"
          ],
          "name": "stdout"
        },
        {
          "output_type": "stream",
          "text": [
            "\r77it [04:48,  3.68s/it]"
          ],
          "name": "stderr"
        },
        {
          "output_type": "stream",
          "text": [
            "mse: 0.0114978235\n"
          ],
          "name": "stdout"
        },
        {
          "output_type": "stream",
          "text": [
            "\r78it [04:51,  3.64s/it]"
          ],
          "name": "stderr"
        },
        {
          "output_type": "stream",
          "text": [
            "mse: 0.0041803746\n"
          ],
          "name": "stdout"
        },
        {
          "output_type": "stream",
          "text": [
            "\r79it [04:55,  3.69s/it]"
          ],
          "name": "stderr"
        },
        {
          "output_type": "stream",
          "text": [
            "mse: 0.0017394852\n"
          ],
          "name": "stdout"
        },
        {
          "output_type": "stream",
          "text": [
            "\r80it [04:59,  3.65s/it]"
          ],
          "name": "stderr"
        },
        {
          "output_type": "stream",
          "text": [
            "mse: 0.0015179776\n"
          ],
          "name": "stdout"
        },
        {
          "output_type": "stream",
          "text": [
            "\r81it [05:02,  3.59s/it]"
          ],
          "name": "stderr"
        },
        {
          "output_type": "stream",
          "text": [
            "mse: 0.0031542175\n"
          ],
          "name": "stdout"
        },
        {
          "output_type": "stream",
          "text": [
            "\r82it [05:06,  3.53s/it]"
          ],
          "name": "stderr"
        },
        {
          "output_type": "stream",
          "text": [
            "mse: 0.0034963414\n"
          ],
          "name": "stdout"
        },
        {
          "output_type": "stream",
          "text": [
            "\r83it [05:09,  3.52s/it]"
          ],
          "name": "stderr"
        },
        {
          "output_type": "stream",
          "text": [
            "mse: 0.0019443694\n"
          ],
          "name": "stdout"
        },
        {
          "output_type": "stream",
          "text": [
            "\r84it [05:13,  3.52s/it]"
          ],
          "name": "stderr"
        },
        {
          "output_type": "stream",
          "text": [
            "mse: 0.0035545402\n"
          ],
          "name": "stdout"
        },
        {
          "output_type": "stream",
          "text": [
            "\r85it [05:16,  3.45s/it]"
          ],
          "name": "stderr"
        },
        {
          "output_type": "stream",
          "text": [
            "mse: 0.0058977287\n"
          ],
          "name": "stdout"
        },
        {
          "output_type": "stream",
          "text": [
            "\r86it [05:19,  3.41s/it]"
          ],
          "name": "stderr"
        },
        {
          "output_type": "stream",
          "text": [
            "mse: 0.00321761\n"
          ],
          "name": "stdout"
        },
        {
          "output_type": "stream",
          "text": [
            "\r87it [05:23,  3.43s/it]"
          ],
          "name": "stderr"
        },
        {
          "output_type": "stream",
          "text": [
            "mse: 0.004158334\n"
          ],
          "name": "stdout"
        },
        {
          "output_type": "stream",
          "text": [
            "\r88it [05:26,  3.42s/it]"
          ],
          "name": "stderr"
        },
        {
          "output_type": "stream",
          "text": [
            "mse: 0.0018951915\n"
          ],
          "name": "stdout"
        },
        {
          "output_type": "stream",
          "text": [
            "\r89it [05:29,  3.40s/it]"
          ],
          "name": "stderr"
        },
        {
          "output_type": "stream",
          "text": [
            "mse: 0.0016613987\n"
          ],
          "name": "stdout"
        },
        {
          "output_type": "stream",
          "text": [
            "\r90it [05:33,  3.42s/it]"
          ],
          "name": "stderr"
        },
        {
          "output_type": "stream",
          "text": [
            "mse: 0.0028446931\n"
          ],
          "name": "stdout"
        },
        {
          "output_type": "stream",
          "text": [
            "\r91it [05:36,  3.38s/it]"
          ],
          "name": "stderr"
        },
        {
          "output_type": "stream",
          "text": [
            "mse: 0.0020945864\n"
          ],
          "name": "stdout"
        },
        {
          "output_type": "stream",
          "text": [
            "\r92it [05:40,  3.45s/it]"
          ],
          "name": "stderr"
        },
        {
          "output_type": "stream",
          "text": [
            "mse: 0.0020691138\n"
          ],
          "name": "stdout"
        },
        {
          "output_type": "stream",
          "text": [
            "\r93it [05:43,  3.50s/it]"
          ],
          "name": "stderr"
        },
        {
          "output_type": "stream",
          "text": [
            "mse: 0.0019369669\n"
          ],
          "name": "stdout"
        },
        {
          "output_type": "stream",
          "text": [
            "\r94it [05:47,  3.46s/it]"
          ],
          "name": "stderr"
        },
        {
          "output_type": "stream",
          "text": [
            "mse: 0.001992591\n"
          ],
          "name": "stdout"
        },
        {
          "output_type": "stream",
          "text": [
            "\r95it [05:50,  3.51s/it]"
          ],
          "name": "stderr"
        },
        {
          "output_type": "stream",
          "text": [
            "mse: 0.0024643652\n"
          ],
          "name": "stdout"
        },
        {
          "output_type": "stream",
          "text": [
            "\r96it [05:54,  3.48s/it]"
          ],
          "name": "stderr"
        },
        {
          "output_type": "stream",
          "text": [
            "mse: 0.0025187882\n"
          ],
          "name": "stdout"
        },
        {
          "output_type": "stream",
          "text": [
            "\r97it [05:57,  3.45s/it]"
          ],
          "name": "stderr"
        },
        {
          "output_type": "stream",
          "text": [
            "mse: 0.0029835638\n"
          ],
          "name": "stdout"
        },
        {
          "output_type": "stream",
          "text": [
            "\r98it [06:01,  3.49s/it]"
          ],
          "name": "stderr"
        },
        {
          "output_type": "stream",
          "text": [
            "mse: 0.0032591359\n"
          ],
          "name": "stdout"
        },
        {
          "output_type": "stream",
          "text": [
            "\r99it [06:04,  3.51s/it]"
          ],
          "name": "stderr"
        },
        {
          "output_type": "stream",
          "text": [
            "mse: 0.0024095576\n"
          ],
          "name": "stdout"
        },
        {
          "output_type": "stream",
          "text": [
            "\r100it [06:08,  3.58s/it]"
          ],
          "name": "stderr"
        },
        {
          "output_type": "stream",
          "text": [
            "mse: 0.0029140962\n"
          ],
          "name": "stdout"
        },
        {
          "output_type": "stream",
          "text": [
            "\r101it [06:12,  3.65s/it]"
          ],
          "name": "stderr"
        },
        {
          "output_type": "stream",
          "text": [
            "mse: 0.0027058825\n"
          ],
          "name": "stdout"
        },
        {
          "output_type": "stream",
          "text": [
            "\r102it [06:16,  3.66s/it]"
          ],
          "name": "stderr"
        },
        {
          "output_type": "stream",
          "text": [
            "mse: 0.011120562\n"
          ],
          "name": "stdout"
        },
        {
          "output_type": "stream",
          "text": [
            "\r103it [06:19,  3.57s/it]"
          ],
          "name": "stderr"
        },
        {
          "output_type": "stream",
          "text": [
            "mse: 0.0031613414\n"
          ],
          "name": "stdout"
        },
        {
          "output_type": "stream",
          "text": [
            "\r104it [06:22,  3.54s/it]"
          ],
          "name": "stderr"
        },
        {
          "output_type": "stream",
          "text": [
            "mse: 0.0016296366\n"
          ],
          "name": "stdout"
        },
        {
          "output_type": "stream",
          "text": [
            "\r105it [06:26,  3.53s/it]"
          ],
          "name": "stderr"
        },
        {
          "output_type": "stream",
          "text": [
            "mse: 0.0034007963\n"
          ],
          "name": "stdout"
        },
        {
          "output_type": "stream",
          "text": [
            "\r106it [06:29,  3.48s/it]"
          ],
          "name": "stderr"
        },
        {
          "output_type": "stream",
          "text": [
            "mse: 0.0033487075\n"
          ],
          "name": "stdout"
        },
        {
          "output_type": "stream",
          "text": [
            "\r107it [06:34,  3.77s/it]"
          ],
          "name": "stderr"
        },
        {
          "output_type": "stream",
          "text": [
            "mse: 0.004348777\n"
          ],
          "name": "stdout"
        },
        {
          "output_type": "stream",
          "text": [
            "\r108it [06:38,  3.78s/it]"
          ],
          "name": "stderr"
        },
        {
          "output_type": "stream",
          "text": [
            "mse: 0.0034636382\n"
          ],
          "name": "stdout"
        },
        {
          "output_type": "stream",
          "text": [
            "\r109it [06:41,  3.71s/it]"
          ],
          "name": "stderr"
        },
        {
          "output_type": "stream",
          "text": [
            "mse: 0.006162075\n"
          ],
          "name": "stdout"
        },
        {
          "output_type": "stream",
          "text": [
            "\r110it [06:45,  3.67s/it]"
          ],
          "name": "stderr"
        },
        {
          "output_type": "stream",
          "text": [
            "mse: 0.0078622345\n"
          ],
          "name": "stdout"
        },
        {
          "output_type": "stream",
          "text": [
            "\r111it [06:48,  3.65s/it]"
          ],
          "name": "stderr"
        },
        {
          "output_type": "stream",
          "text": [
            "mse: 0.0034705151\n"
          ],
          "name": "stdout"
        },
        {
          "output_type": "stream",
          "text": [
            "\r112it [06:52,  3.65s/it]"
          ],
          "name": "stderr"
        },
        {
          "output_type": "stream",
          "text": [
            "mse: 0.010671504\n"
          ],
          "name": "stdout"
        },
        {
          "output_type": "stream",
          "text": [
            "\r113it [06:56,  3.65s/it]"
          ],
          "name": "stderr"
        },
        {
          "output_type": "stream",
          "text": [
            "mse: 0.004988534\n"
          ],
          "name": "stdout"
        },
        {
          "output_type": "stream",
          "text": [
            "\r114it [06:59,  3.55s/it]"
          ],
          "name": "stderr"
        },
        {
          "output_type": "stream",
          "text": [
            "mse: 0.0035702288\n"
          ],
          "name": "stdout"
        },
        {
          "output_type": "stream",
          "text": [
            "\r115it [07:03,  3.59s/it]"
          ],
          "name": "stderr"
        },
        {
          "output_type": "stream",
          "text": [
            "mse: 0.006724389\n"
          ],
          "name": "stdout"
        },
        {
          "output_type": "stream",
          "text": [
            "\r116it [07:06,  3.67s/it]"
          ],
          "name": "stderr"
        },
        {
          "output_type": "stream",
          "text": [
            "mse: 0.0016443499\n"
          ],
          "name": "stdout"
        },
        {
          "output_type": "stream",
          "text": [
            "\r117it [07:10,  3.61s/it]"
          ],
          "name": "stderr"
        },
        {
          "output_type": "stream",
          "text": [
            "mse: 0.006067655\n"
          ],
          "name": "stdout"
        },
        {
          "output_type": "stream",
          "text": [
            "\r118it [07:14,  3.63s/it]"
          ],
          "name": "stderr"
        },
        {
          "output_type": "stream",
          "text": [
            "mse: 0.0027853043\n"
          ],
          "name": "stdout"
        },
        {
          "output_type": "stream",
          "text": [
            "\r119it [07:17,  3.59s/it]"
          ],
          "name": "stderr"
        },
        {
          "output_type": "stream",
          "text": [
            "mse: 0.0019473487\n"
          ],
          "name": "stdout"
        },
        {
          "output_type": "stream",
          "text": [
            "\r120it [07:21,  3.66s/it]"
          ],
          "name": "stderr"
        },
        {
          "output_type": "stream",
          "text": [
            "mse: 0.0028886225\n"
          ],
          "name": "stdout"
        },
        {
          "output_type": "stream",
          "text": [
            "\r121it [07:24,  3.63s/it]"
          ],
          "name": "stderr"
        },
        {
          "output_type": "stream",
          "text": [
            "mse: 0.004003062\n"
          ],
          "name": "stdout"
        },
        {
          "output_type": "stream",
          "text": [
            "\r122it [07:28,  3.60s/it]"
          ],
          "name": "stderr"
        },
        {
          "output_type": "stream",
          "text": [
            "mse: 0.0039291126\n"
          ],
          "name": "stdout"
        },
        {
          "output_type": "stream",
          "text": [
            "\r123it [07:32,  3.65s/it]"
          ],
          "name": "stderr"
        },
        {
          "output_type": "stream",
          "text": [
            "mse: 0.0056394264\n"
          ],
          "name": "stdout"
        },
        {
          "output_type": "stream",
          "text": [
            "\r124it [07:35,  3.65s/it]"
          ],
          "name": "stderr"
        },
        {
          "output_type": "stream",
          "text": [
            "mse: 0.005219711\n"
          ],
          "name": "stdout"
        },
        {
          "output_type": "stream",
          "text": [
            "\r125it [07:39,  3.70s/it]"
          ],
          "name": "stderr"
        },
        {
          "output_type": "stream",
          "text": [
            "mse: 0.0045822384\n"
          ],
          "name": "stdout"
        },
        {
          "output_type": "stream",
          "text": [
            "\n"
          ],
          "name": "stderr"
        }
      ]
    },
    {
      "cell_type": "code",
      "metadata": {
        "id": "kcQeeUgRRv_m",
        "colab_type": "code",
        "colab": {
          "base_uri": "https://localhost:8080/",
          "height": 799
        },
        "outputId": "fc9a03de-6d5e-4d91-d61c-9f989fd23342"
      },
      "source": [
        "import collections\n",
        "s = torch.load('../medical_image_transform/checkpoints/brats_t1_2_t1ce_unet_32_gan_ppp_pix2pix/latest_net_G.pth')\n",
        "s2 = collections.OrderedDict([(k.replace('module.',''), v) for k, v in s.items()])\n",
        "for k, v in s2.items():\n",
        "    print(v.shape)"
      ],
      "execution_count": 4,
      "outputs": [
        {
          "output_type": "stream",
          "text": [
            "torch.Size([64, 1, 3, 4, 4])\n",
            "torch.Size([128, 64, 3, 4, 4])\n",
            "torch.Size([128])\n",
            "torch.Size([128])\n",
            "torch.Size([128])\n",
            "torch.Size([128])\n",
            "torch.Size([])\n",
            "torch.Size([256, 128, 3, 4, 4])\n",
            "torch.Size([256])\n",
            "torch.Size([256])\n",
            "torch.Size([256])\n",
            "torch.Size([256])\n",
            "torch.Size([])\n",
            "torch.Size([512, 256, 4, 4, 4])\n",
            "torch.Size([512])\n",
            "torch.Size([512])\n",
            "torch.Size([512])\n",
            "torch.Size([512])\n",
            "torch.Size([])\n",
            "torch.Size([512, 512, 4, 4, 4])\n",
            "torch.Size([512, 512, 4, 4, 4])\n",
            "torch.Size([512])\n",
            "torch.Size([512])\n",
            "torch.Size([512])\n",
            "torch.Size([512])\n",
            "torch.Size([])\n",
            "torch.Size([1024, 256, 4, 4, 4])\n",
            "torch.Size([256])\n",
            "torch.Size([256])\n",
            "torch.Size([256])\n",
            "torch.Size([256])\n",
            "torch.Size([])\n",
            "torch.Size([512, 128, 3, 4, 4])\n",
            "torch.Size([128])\n",
            "torch.Size([128])\n",
            "torch.Size([128])\n",
            "torch.Size([128])\n",
            "torch.Size([])\n",
            "torch.Size([256, 64, 3, 4, 4])\n",
            "torch.Size([64])\n",
            "torch.Size([64])\n",
            "torch.Size([64])\n",
            "torch.Size([64])\n",
            "torch.Size([])\n",
            "torch.Size([128, 1, 3, 4, 4])\n",
            "torch.Size([1])\n"
          ],
          "name": "stdout"
        }
      ]
    },
    {
      "cell_type": "code",
      "metadata": {
        "id": "axjCWllmyFJ5",
        "colab_type": "code",
        "colab": {}
      },
      "source": [
        "import torch\n",
        "from torch import nn\n",
        "m = nn.Conv3d(16, 33, kernel_size=[3,4,4], stride=[1,2,2], padding=1)\n",
        "# m = nn.ConvTranspose3d(16, 33, kernel_size=[3,4,4], stride=[1,2,2], padding=1)\n",
        "input = torch.randn(20, 16, 27, 64, 64)\n",
        "output = m(input)\n",
        "print(output.shape)\n",
        "\n",
        "# conv stride 1 pad 1 kw 3\n",
        "# conv stride 2 pad 1 kw 4"
      ],
      "execution_count": 0,
      "outputs": []
    },
    {
      "cell_type": "code",
      "metadata": {
        "id": "3QJhnpynSh92",
        "colab_type": "code",
        "colab": {
          "base_uri": "https://localhost:8080/",
          "height": 1000
        },
        "outputId": "a311cc59-06af-4032-cc09-7053b3e8967f"
      },
      "source": [
        "!ls /content/drive/My\\ Drive/BraTS/MICCAI_BraTS_2019_Data_Validation_by_modality/t1"
      ],
      "execution_count": 3,
      "outputs": [
        {
          "output_type": "stream",
          "text": [
            "BraTS19_CBICA_AAM_1_t1.nii.gz\tBraTS19_TCIA07_601_1_t1.nii.gz\n",
            "BraTS19_CBICA_ABT_1_t1.nii.gz\tBraTS19_TCIA07_602_1_t1.nii.gz\n",
            "BraTS19_CBICA_ALA_1_t1.nii.gz\tBraTS19_TCIA09_148_1_t1.nii.gz\n",
            "BraTS19_CBICA_ALT_1_t1.nii.gz\tBraTS19_TCIA09_225_1_t1.nii.gz\n",
            "BraTS19_CBICA_ALV_1_t1.nii.gz\tBraTS19_TCIA09_248_1_t1.nii.gz\n",
            "BraTS19_CBICA_ALZ_1_t1.nii.gz\tBraTS19_TCIA09_381_1_t1.nii.gz\n",
            "BraTS19_CBICA_AMF_1_t1.nii.gz\tBraTS19_TCIA09_385_1_t1.nii.gz\n",
            "BraTS19_CBICA_AMU_1_t1.nii.gz\tBraTS19_TCIA10_106_1_t1.nii.gz\n",
            "BraTS19_CBICA_ANK_1_t1.nii.gz\tBraTS19_TCIA10_127_1_t1.nii.gz\n",
            "BraTS19_CBICA_APM_1_t1.nii.gz\tBraTS19_TCIA10_172_1_t1.nii.gz\n",
            "BraTS19_CBICA_AQE_1_t1.nii.gz\tBraTS19_TCIA10_195_1_t1.nii.gz\n",
            "BraTS19_CBICA_ARR_1_t1.nii.gz\tBraTS19_TCIA10_220_1_t1.nii.gz\n",
            "BraTS19_CBICA_ATW_1_t1.nii.gz\tBraTS19_TCIA10_232_1_t1.nii.gz\n",
            "BraTS19_CBICA_AUC_1_t1.nii.gz\tBraTS19_TCIA10_236_1_t1.nii.gz\n",
            "BraTS19_CBICA_AUE_1_t1.nii.gz\tBraTS19_TCIA10_239_1_t1.nii.gz\n",
            "BraTS19_CBICA_AZA_1_t1.nii.gz\tBraTS19_TCIA10_271_1_t1.nii.gz\n",
            "BraTS19_CBICA_BHF_1_t1.nii.gz\tBraTS19_TCIA10_311_1_t1.nii.gz\n",
            "BraTS19_CBICA_BHN_1_t1.nii.gz\tBraTS19_TCIA10_467_1_t1.nii.gz\n",
            "BraTS19_CBICA_BKY_1_t1.nii.gz\tBraTS19_TCIA10_609_1_t1.nii.gz\n",
            "BraTS19_CBICA_BLI_1_t1.nii.gz\tBraTS19_TCIA10_614_1_t1.nii.gz\n",
            "BraTS19_CBICA_BLK_1_t1.nii.gz\tBraTS19_TCIA10_627_1_t1.nii.gz\n",
            "BraTS19_MDA_1012_1_t1.nii.gz\tBraTS19_TCIA10_631_1_t1.nii.gz\n",
            "BraTS19_MDA_1015_1_t1.nii.gz\tBraTS19_TCIA10_635_1_t1.nii.gz\n",
            "BraTS19_MDA_1060_1_t1.nii.gz\tBraTS19_TCIA10_647_1_t1.nii.gz\n",
            "BraTS19_MDA_1081_1_t1.nii.gz\tBraTS19_TCIA11_612_1_t1.nii.gz\n",
            "BraTS19_MDA_1089_1_t1.nii.gz\tBraTS19_TCIA12_146_1_t1.nii.gz\n",
            "BraTS19_MDA_1123_1_t1.nii.gz\tBraTS19_TCIA12_339_1_t1.nii.gz\n",
            "BraTS19_MDA_1124_1_t1.nii.gz\tBraTS19_TCIA12_613_1_t1.nii.gz\n",
            "BraTS19_MDA_907_1_t1.nii.gz\tBraTS19_TCIA12_641_1_t1.nii.gz\n",
            "BraTS19_MDA_922_1_t1.nii.gz\tBraTS19_TCIA13_610_1_t1.nii.gz\n",
            "BraTS19_MDA_958_1_t1.nii.gz\tBraTS19_TCIA13_611_1_t1.nii.gz\n",
            "BraTS19_MDA_959_1_t1.nii.gz\tBraTS19_TCIA13_616_1_t1.nii.gz\n",
            "BraTS19_TCIA01_215_1_t1.nii.gz\tBraTS19_TCIA13_617_1_t1.nii.gz\n",
            "BraTS19_TCIA01_341_1_t1.nii.gz\tBraTS19_TCIA13_619_1_t1.nii.gz\n",
            "BraTS19_TCIA01_454_1_t1.nii.gz\tBraTS19_TCIA13_622_1_t1.nii.gz\n",
            "BraTS19_TCIA02_139_1_t1.nii.gz\tBraTS19_TCIA13_626_1_t1.nii.gz\n",
            "BraTS19_TCIA02_210_1_t1.nii.gz\tBraTS19_TCIA13_636_1_t1.nii.gz\n",
            "BraTS19_TCIA02_229_1_t1.nii.gz\tBraTS19_TCIA13_638_1_t1.nii.gz\n",
            "BraTS19_TCIA02_230_1_t1.nii.gz\tBraTS19_TCIA13_643_1_t1.nii.gz\n",
            "BraTS19_TCIA02_273_1_t1.nii.gz\tBraTS19_TCIA13_646_1_t1.nii.gz\n",
            "BraTS19_TCIA02_294_1_t1.nii.gz\tBraTS19_TCIA13_648_1_t1.nii.gz\n",
            "BraTS19_TCIA02_350_1_t1.nii.gz\tBraTS19_TCIA13_649_1_t1.nii.gz\n",
            "BraTS19_TCIA02_355_1_t1.nii.gz\tBraTS19_TCIA13_651_1_t1.nii.gz\n",
            "BraTS19_TCIA02_382_1_t1.nii.gz\tBraTS19_TCIA13_652_1_t1.nii.gz\n",
            "BraTS19_TCIA02_400_1_t1.nii.gz\tBraTS19_TCIA13_655_1_t1.nii.gz\n",
            "BraTS19_TCIA02_457_1_t1.nii.gz\tBraTS19_UAB_3446_1_t1.nii.gz\n",
            "BraTS19_TCIA02_496_1_t1.nii.gz\tBraTS19_UAB_3448_1_t1.nii.gz\n",
            "BraTS19_TCIA03_216_1_t1.nii.gz\tBraTS19_UAB_3449_1_t1.nii.gz\n",
            "BraTS19_TCIA03_250_1_t1.nii.gz\tBraTS19_UAB_3454_1_t1.nii.gz\n",
            "BraTS19_TCIA03_288_1_t1.nii.gz\tBraTS19_UAB_3455_1_t1.nii.gz\n",
            "BraTS19_TCIA03_295_1_t1.nii.gz\tBraTS19_UAB_3456_1_t1.nii.gz\n",
            "BraTS19_TCIA03_303_1_t1.nii.gz\tBraTS19_UAB_3490_1_t1.nii.gz\n",
            "BraTS19_TCIA03_304_1_t1.nii.gz\tBraTS19_UAB_3498_1_t1.nii.gz\n",
            "BraTS19_TCIA03_313_1_t1.nii.gz\tBraTS19_UAB_3499_1_t1.nii.gz\n",
            "BraTS19_TCIA03_318_1_t1.nii.gz\tBraTS19_WashU_S036_1_t1.nii.gz\n",
            "BraTS19_TCIA03_464_1_t1.nii.gz\tBraTS19_WashU_S037_1_t1.nii.gz\n",
            "BraTS19_TCIA03_604_1_t1.nii.gz\tBraTS19_WashU_S040_1_t1.nii.gz\n",
            "BraTS19_TCIA04_212_1_t1.nii.gz\tBraTS19_WashU_S041_1_t1.nii.gz\n",
            "BraTS19_TCIA04_253_1_t1.nii.gz\tBraTS19_WashU_W033_1_t1.nii.gz\n",
            "BraTS19_TCIA05_456_1_t1.nii.gz\tBraTS19_WashU_W038_1_t1.nii.gz\n",
            "BraTS19_TCIA05_484_1_t1.nii.gz\tBraTS19_WashU_W047_1_t1.nii.gz\n",
            "BraTS19_TCIA06_497_1_t1.nii.gz\tBraTS19_WashU_W053_1_t1.nii.gz\n",
            "BraTS19_TCIA07_600_1_t1.nii.gz\n"
          ],
          "name": "stdout"
        }
      ]
    },
    {
      "cell_type": "code",
      "metadata": {
        "id": "L_uruJXJtTLp",
        "colab_type": "code",
        "colab": {}
      },
      "source": [
        ""
      ],
      "execution_count": 0,
      "outputs": []
    }
  ]
}
